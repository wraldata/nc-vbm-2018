{
 "cells": [
  {
   "cell_type": "code",
   "execution_count": 1,
   "metadata": {},
   "outputs": [
    {
     "name": "stdout",
     "output_type": "stream",
     "text": [
      "Error: PyMSSQL package not available. Some features may not be available.\n"
     ]
    }
   ],
   "source": [
    "import pandas\n",
    "import matplotlib.pyplot as plt\n",
    "pandas.set_option('display.float_format', lambda x: '%.4f' % x)\n",
    "import numpy as np\n",
    "import epydemiology as epy"
   ]
  },
  {
   "cell_type": "markdown",
   "metadata": {},
   "source": [
    "## Load most recent 2020 data\n",
    "https://www.ncsbe.gov/results-data/absentee-data\n",
    "\n",
    "UPDATED: 9/23\n",
    "\n",
    "- REMOVE: pending/pending cure"
   ]
  },
  {
   "cell_type": "code",
   "execution_count": 3,
   "metadata": {},
   "outputs": [
    {
     "name": "stderr",
     "output_type": "stream",
     "text": [
      "/usr/local/lib/python3.7/site-packages/IPython/core/interactiveshell.py:2785: DtypeWarning: Columns (40) have mixed types. Specify dtype option on import or set low_memory=False.\n",
      "  interactivity=interactivity, compiler=compiler, result=result)\n"
     ]
    }
   ],
   "source": [
    "df = pandas.read_csv('../data/absentee_20201103.csv', encoding = \"ISO-8859-1\")"
   ]
  },
  {
   "cell_type": "code",
   "execution_count": 4,
   "metadata": {},
   "outputs": [
    {
     "data": {
      "text/plain": [
       "Index(['county_desc', 'voter_reg_num', 'ncid', 'voter_last_name',\n",
       "       'voter_first_name', 'voter_middle_name', 'race', 'ethnicity', 'gender',\n",
       "       'age', 'application_num', 'voter_street_address', 'voter_city',\n",
       "       'voter_state', 'voter_zip', 'ballot_mail_street_address',\n",
       "       'ballot_mail_city', 'ballot_mail_state', 'ballot_mail_zip',\n",
       "       'other_mail_addr1', 'other_mail_addr2', 'other_city_state_zip',\n",
       "       'relative_request_name', 'relative_request_address',\n",
       "       'relative_request_city', 'relative_request_state',\n",
       "       'relative_request_zip', 'election_dt', 'voter_party_code',\n",
       "       'precinct_desc', 'cong_dist_desc', 'nc_house_desc', 'nc_senate_desc',\n",
       "       'ballot_req_delivery_type', 'ballot_req_type', 'ballot_request_party',\n",
       "       'ballot_req_dt', 'ballot_send_dt', 'ballot_rtn_dt', 'ballot_rtn_status',\n",
       "       'site_name', 'sdr', 'mail_veri_status'],\n",
       "      dtype='object')"
      ]
     },
     "execution_count": 4,
     "metadata": {},
     "output_type": "execute_result"
    }
   ],
   "source": [
    "df.columns"
   ]
  },
  {
   "cell_type": "code",
   "execution_count": 5,
   "metadata": {},
   "outputs": [
    {
     "data": {
      "text/plain": [
       "177132"
      ]
     },
     "execution_count": 5,
     "metadata": {},
     "output_type": "execute_result"
    }
   ],
   "source": [
    "len(df)"
   ]
  },
  {
   "cell_type": "markdown",
   "metadata": {},
   "source": [
    "FOR ALL DATA:\n",
    "- Remove one-stop data\n",
    "- ballot_req_type == \"MAIL\"\n",
    "- valid return date only "
   ]
  },
  {
   "cell_type": "code",
   "execution_count": 6,
   "metadata": {},
   "outputs": [
    {
     "data": {
      "text/plain": [
       "array(['MAIL'], dtype=object)"
      ]
     },
     "execution_count": 6,
     "metadata": {},
     "output_type": "execute_result"
    }
   ],
   "source": [
    "# it's all mail\n",
    "df.ballot_req_type.unique()"
   ]
  },
  {
   "cell_type": "code",
   "execution_count": 7,
   "metadata": {},
   "outputs": [
    {
     "data": {
      "text/plain": [
       "177132"
      ]
     },
     "execution_count": 7,
     "metadata": {},
     "output_type": "execute_result"
    }
   ],
   "source": [
    "# it's all returned already\n",
    "df = df[df['ballot_rtn_dt'].notnull()]\n",
    "len(df)"
   ]
  },
  {
   "cell_type": "code",
   "execution_count": 10,
   "metadata": {},
   "outputs": [
    {
     "data": {
      "text/plain": [
       "array(['ACCEPTED', 'WITNESS INFO INCOMPLETE', 'RETURNED UNDELIVERABLE',\n",
       "       'SPOILED', 'PENDING CURE', 'ACCEPTED - CURED', 'PENDING',\n",
       "       'CONFLICT', 'SIGNATURE DIFFERENT', 'DUPLICATE'], dtype=object)"
      ]
     },
     "execution_count": 10,
     "metadata": {},
     "output_type": "execute_result"
    }
   ],
   "source": [
    "df.ballot_rtn_status.unique()"
   ]
  },
  {
   "cell_type": "markdown",
   "metadata": {},
   "source": [
    "#### Remove pending cure, pending"
   ]
  },
  {
   "cell_type": "code",
   "execution_count": 13,
   "metadata": {},
   "outputs": [
    {
     "data": {
      "text/plain": [
       "array(['ACCEPTED', 'WITNESS INFO INCOMPLETE', 'RETURNED UNDELIVERABLE',\n",
       "       'SPOILED', 'ACCEPTED - CURED', 'CONFLICT', 'SIGNATURE DIFFERENT',\n",
       "       'DUPLICATE'], dtype=object)"
      ]
     },
     "execution_count": 13,
     "metadata": {},
     "output_type": "execute_result"
    }
   ],
   "source": [
    "df_nopending = df[~df.ballot_rtn_status.isin(['PENDING', 'PENDING CURE'])]\n",
    "df_nopending.ballot_rtn_status.unique()"
   ]
  },
  {
   "cell_type": "markdown",
   "metadata": {},
   "source": [
    "## Ballot breakdown by race"
   ]
  },
  {
   "cell_type": "code",
   "execution_count": 14,
   "metadata": {},
   "outputs": [
    {
     "data": {
      "text/plain": [
       "WHITE                                  128952\n",
       "BLACK or AFRICAN AMERICAN               28808\n",
       "UNDESIGNATED                            10420\n",
       "OTHER                                    3239\n",
       "ASIAN                                    2768\n",
       "TWO or MORE RACES                         782\n",
       "INDIAN AMERICAN or ALASKA NATIVE          523\n",
       "NATIVE HAWAIIAN or PACIFIC ISLANDER         1\n",
       "Name: race, dtype: int64"
      ]
     },
     "execution_count": 14,
     "metadata": {},
     "output_type": "execute_result"
    }
   ],
   "source": [
    "df_nopending.race.value_counts()"
   ]
  },
  {
   "cell_type": "code",
   "execution_count": 15,
   "metadata": {},
   "outputs": [
    {
     "data": {
      "text/plain": [
       "WHITE                                 0.7348\n",
       "BLACK or AFRICAN AMERICAN             0.1642\n",
       "UNDESIGNATED                          0.0594\n",
       "OTHER                                 0.0185\n",
       "ASIAN                                 0.0158\n",
       "TWO or MORE RACES                     0.0045\n",
       "INDIAN AMERICAN or ALASKA NATIVE      0.0030\n",
       "NATIVE HAWAIIAN or PACIFIC ISLANDER   0.0000\n",
       "Name: race, dtype: float64"
      ]
     },
     "execution_count": 15,
     "metadata": {},
     "output_type": "execute_result"
    }
   ],
   "source": [
    "df_nopending.race.value_counts(normalize=True)"
   ]
  },
  {
   "cell_type": "markdown",
   "metadata": {},
   "source": [
    "## Ballots rejected"
   ]
  },
  {
   "cell_type": "code",
   "execution_count": 16,
   "metadata": {},
   "outputs": [
    {
     "data": {
      "text/plain": [
       "ACCEPTED                   27975\n",
       "WITNESS INFO INCOMPLETE      533\n",
       "SPOILED                      229\n",
       "ACCEPTED - CURED              50\n",
       "RETURNED UNDELIVERABLE        17\n",
       "SIGNATURE DIFFERENT            2\n",
       "CONFLICT                       1\n",
       "DUPLICATE                      1\n",
       "Name: ballot_rtn_status, dtype: int64"
      ]
     },
     "execution_count": 16,
     "metadata": {},
     "output_type": "execute_result"
    }
   ],
   "source": [
    "df_nopending[df_nopending.race==\"BLACK or AFRICAN AMERICAN\"]['ballot_rtn_status'].value_counts()"
   ]
  },
  {
   "cell_type": "code",
   "execution_count": 17,
   "metadata": {},
   "outputs": [
    {
     "data": {
      "text/plain": [
       "ACCEPTED                  0.0289\n",
       "WITNESS INFO INCOMPLETE   0.9815\n",
       "SPOILED                   0.9921\n",
       "ACCEPTED - CURED          0.9983\n",
       "RETURNED UNDELIVERABLE    0.9994\n",
       "SIGNATURE DIFFERENT       0.9999\n",
       "CONFLICT                  1.0000\n",
       "DUPLICATE                 1.0000\n",
       "Name: ballot_rtn_status, dtype: float64"
      ]
     },
     "execution_count": 17,
     "metadata": {},
     "output_type": "execute_result"
    }
   ],
   "source": [
    "1- df_nopending[df_nopending.race==\"BLACK or AFRICAN AMERICAN\"]['ballot_rtn_status'].value_counts(normalize=True)"
   ]
  },
  {
   "cell_type": "code",
   "execution_count": 18,
   "metadata": {},
   "outputs": [
    {
     "data": {
      "text/plain": [
       "875"
      ]
     },
     "execution_count": 18,
     "metadata": {},
     "output_type": "execute_result"
    }
   ],
   "source": [
    "17537- 16662"
   ]
  },
  {
   "cell_type": "code",
   "execution_count": 19,
   "metadata": {},
   "outputs": [
    {
     "data": {
      "text/plain": [
       "ACCEPTED                   127551\n",
       "SPOILED                       796\n",
       "WITNESS INFO INCOMPLETE       334\n",
       "ACCEPTED - CURED              195\n",
       "RETURNED UNDELIVERABLE         65\n",
       "CONFLICT                        6\n",
       "SIGNATURE DIFFERENT             3\n",
       "DUPLICATE                       2\n",
       "Name: ballot_rtn_status, dtype: int64"
      ]
     },
     "execution_count": 19,
     "metadata": {},
     "output_type": "execute_result"
    }
   ],
   "source": [
    "df_nopending[df_nopending.race==\"WHITE\"]['ballot_rtn_status'].value_counts()"
   ]
  },
  {
   "cell_type": "code",
   "execution_count": 20,
   "metadata": {},
   "outputs": [
    {
     "data": {
      "text/plain": [
       "ACCEPTED                  0.0109\n",
       "SPOILED                   0.9938\n",
       "WITNESS INFO INCOMPLETE   0.9974\n",
       "ACCEPTED - CURED          0.9985\n",
       "RETURNED UNDELIVERABLE    0.9995\n",
       "CONFLICT                  1.0000\n",
       "SIGNATURE DIFFERENT       1.0000\n",
       "DUPLICATE                 1.0000\n",
       "Name: ballot_rtn_status, dtype: float64"
      ]
     },
     "execution_count": 20,
     "metadata": {},
     "output_type": "execute_result"
    }
   ],
   "source": [
    "1-df_nopending[df_nopending.race==\"WHITE\"]['ballot_rtn_status'].value_counts(normalize=True)"
   ]
  },
  {
   "cell_type": "code",
   "execution_count": null,
   "metadata": {},
   "outputs": [],
   "source": []
  },
  {
   "cell_type": "code",
   "execution_count": null,
   "metadata": {},
   "outputs": [],
   "source": []
  }
 ],
 "metadata": {
  "kernelspec": {
   "display_name": "Python 3",
   "language": "python",
   "name": "python3"
  },
  "language_info": {
   "codemirror_mode": {
    "name": "ipython",
    "version": 3
   },
   "file_extension": ".py",
   "mimetype": "text/x-python",
   "name": "python",
   "nbconvert_exporter": "python",
   "pygments_lexer": "ipython3",
   "version": "3.7.3"
  }
 },
 "nbformat": 4,
 "nbformat_minor": 2
}
