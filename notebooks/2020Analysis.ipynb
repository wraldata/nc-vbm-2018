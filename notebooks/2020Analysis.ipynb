{
 "cells": [
  {
   "cell_type": "code",
   "execution_count": 5,
   "metadata": {},
   "outputs": [],
   "source": [
    "import pandas\n",
    "import matplotlib.pyplot as plt\n",
    "pandas.set_option('display.float_format', lambda x: '%.4f' % x)\n",
    "import numpy as np\n",
    "import epydemiology as epy"
   ]
  },
  {
   "cell_type": "markdown",
   "metadata": {},
   "source": [
    "## Load most recent 2020 data\n",
    "https://www.ncsbe.gov/results-data/absentee-data"
   ]
  },
  {
   "cell_type": "code",
   "execution_count": 8,
   "metadata": {},
   "outputs": [],
   "source": [
    "df = pandas.read_csv('../data/absentee_20201103.csv', encoding = \"ISO-8859-1\")"
   ]
  },
  {
   "cell_type": "code",
   "execution_count": 10,
   "metadata": {},
   "outputs": [
    {
     "data": {
      "text/plain": [
       "Index(['county_desc', 'voter_reg_num', 'ncid', 'voter_last_name',\n",
       "       'voter_first_name', 'voter_middle_name', 'race', 'ethnicity', 'gender',\n",
       "       'age', 'application_num', 'voter_street_address', 'voter_city',\n",
       "       'voter_state', 'voter_zip', 'ballot_mail_street_address',\n",
       "       'ballot_mail_city', 'ballot_mail_state', 'ballot_mail_zip',\n",
       "       'other_mail_addr1', 'other_mail_addr2', 'other_city_state_zip',\n",
       "       'relative_request_name', 'relative_request_address',\n",
       "       'relative_request_city', 'relative_request_state',\n",
       "       'relative_request_zip', 'election_dt', 'voter_party_code',\n",
       "       'precinct_desc', 'cong_dist_desc', 'nc_house_desc', 'nc_senate_desc',\n",
       "       'ballot_req_delivery_type', 'ballot_req_type', 'ballot_request_party',\n",
       "       'ballot_req_dt', 'ballot_send_dt', 'ballot_rtn_dt', 'ballot_rtn_status',\n",
       "       'site_name', 'sdr', 'mail_veri_status'],\n",
       "      dtype='object')"
      ]
     },
     "execution_count": 10,
     "metadata": {},
     "output_type": "execute_result"
    }
   ],
   "source": [
    "df.columns"
   ]
  },
  {
   "cell_type": "code",
   "execution_count": 11,
   "metadata": {},
   "outputs": [
    {
     "data": {
      "text/plain": [
       "103395"
      ]
     },
     "execution_count": 11,
     "metadata": {},
     "output_type": "execute_result"
    }
   ],
   "source": [
    "len(df)"
   ]
  },
  {
   "cell_type": "markdown",
   "metadata": {},
   "source": [
    "FOR ALL DATA:\n",
    "- Remove one-stop data\n",
    "- ballot_req_type == \"MAIL\"\n",
    "- valid return date only "
   ]
  },
  {
   "cell_type": "code",
   "execution_count": 16,
   "metadata": {},
   "outputs": [
    {
     "data": {
      "text/plain": [
       "array(['MAIL'], dtype=object)"
      ]
     },
     "execution_count": 16,
     "metadata": {},
     "output_type": "execute_result"
    }
   ],
   "source": [
    "# it's all mail\n",
    "df.ballot_req_type.unique()"
   ]
  },
  {
   "cell_type": "code",
   "execution_count": 18,
   "metadata": {},
   "outputs": [
    {
     "data": {
      "text/plain": [
       "103395"
      ]
     },
     "execution_count": 18,
     "metadata": {},
     "output_type": "execute_result"
    }
   ],
   "source": [
    "# it's all returned already\n",
    "df = df[df['ballot_rtn_dt'].notnull()]\n",
    "len(df)"
   ]
  },
  {
   "cell_type": "markdown",
   "metadata": {},
   "source": [
    "## Ballot breakdown by race"
   ]
  },
  {
   "cell_type": "code",
   "execution_count": 20,
   "metadata": {},
   "outputs": [
    {
     "data": {
      "text/plain": [
       "WHITE                                  75683\n",
       "BLACK or AFRICAN AMERICAN              17537\n",
       "UNDESIGNATED                            5885\n",
       "OTHER                                   1867\n",
       "ASIAN                                   1626\n",
       "TWO or MORE RACES                        479\n",
       "INDIAN AMERICAN or ALASKA NATIVE         317\n",
       "NATIVE HAWAIIAN or PACIFIC ISLANDER        1\n",
       "Name: race, dtype: int64"
      ]
     },
     "execution_count": 20,
     "metadata": {},
     "output_type": "execute_result"
    }
   ],
   "source": [
    "df.race.value_counts()"
   ]
  },
  {
   "cell_type": "code",
   "execution_count": 21,
   "metadata": {},
   "outputs": [
    {
     "data": {
      "text/plain": [
       "WHITE                                 0.7320\n",
       "BLACK or AFRICAN AMERICAN             0.1696\n",
       "UNDESIGNATED                          0.0569\n",
       "OTHER                                 0.0181\n",
       "ASIAN                                 0.0157\n",
       "TWO or MORE RACES                     0.0046\n",
       "INDIAN AMERICAN or ALASKA NATIVE      0.0031\n",
       "NATIVE HAWAIIAN or PACIFIC ISLANDER   0.0000\n",
       "Name: race, dtype: float64"
      ]
     },
     "execution_count": 21,
     "metadata": {},
     "output_type": "execute_result"
    }
   ],
   "source": [
    "df.race.value_counts(normalize=True)"
   ]
  },
  {
   "cell_type": "markdown",
   "metadata": {},
   "source": [
    "## Ballots rejected"
   ]
  },
  {
   "cell_type": "code",
   "execution_count": 26,
   "metadata": {},
   "outputs": [
    {
     "data": {
      "text/plain": [
       "ACCEPTED                   16662\n",
       "WITNESS INFO INCOMPLETE      682\n",
       "SPOILED                      133\n",
       "PENDING                       26\n",
       "PENDING CURE                  20\n",
       "RETURNED UNDELIVERABLE         6\n",
       "SIGNATURE DIFFERENT            4\n",
       "ACCEPTED - CURED               2\n",
       "DUPLICATE                      1\n",
       "CONFLICT                       1\n",
       "Name: ballot_rtn_status, dtype: int64"
      ]
     },
     "execution_count": 26,
     "metadata": {},
     "output_type": "execute_result"
    }
   ],
   "source": [
    "df[df.race==\"BLACK or AFRICAN AMERICAN\"]['ballot_rtn_status'].value_counts()"
   ]
  },
  {
   "cell_type": "code",
   "execution_count": 33,
   "metadata": {},
   "outputs": [
    {
     "data": {
      "text/plain": [
       "ACCEPTED                  0.0499\n",
       "WITNESS INFO INCOMPLETE   0.9611\n",
       "SPOILED                   0.9924\n",
       "PENDING                   0.9985\n",
       "PENDING CURE              0.9989\n",
       "RETURNED UNDELIVERABLE    0.9997\n",
       "SIGNATURE DIFFERENT       0.9998\n",
       "ACCEPTED - CURED          0.9999\n",
       "DUPLICATE                 0.9999\n",
       "CONFLICT                  0.9999\n",
       "Name: ballot_rtn_status, dtype: float64"
      ]
     },
     "execution_count": 33,
     "metadata": {},
     "output_type": "execute_result"
    }
   ],
   "source": [
    "1- df[df.race==\"BLACK or AFRICAN AMERICAN\"]['ballot_rtn_status'].value_counts(normalize=True)"
   ]
  },
  {
   "cell_type": "code",
   "execution_count": 28,
   "metadata": {},
   "outputs": [
    {
     "data": {
      "text/plain": [
       "875"
      ]
     },
     "execution_count": 28,
     "metadata": {},
     "output_type": "execute_result"
    }
   ],
   "source": [
    "17537- 16662"
   ]
  },
  {
   "cell_type": "code",
   "execution_count": 29,
   "metadata": {},
   "outputs": [
    {
     "data": {
      "text/plain": [
       "ACCEPTED                   74344\n",
       "WITNESS INFO INCOMPLETE      714\n",
       "SPOILED                      478\n",
       "PENDING                       83\n",
       "PENDING CURE                  27\n",
       "RETURNED UNDELIVERABLE        24\n",
       "ACCEPTED - CURED               5\n",
       "CONFLICT                       4\n",
       "DUPLICATE                      2\n",
       "SIGNATURE DIFFERENT            2\n",
       "Name: ballot_rtn_status, dtype: int64"
      ]
     },
     "execution_count": 29,
     "metadata": {},
     "output_type": "execute_result"
    }
   ],
   "source": [
    "df[df.race==\"WHITE\"]['ballot_rtn_status'].value_counts()"
   ]
  },
  {
   "cell_type": "code",
   "execution_count": 32,
   "metadata": {},
   "outputs": [
    {
     "data": {
      "text/plain": [
       "ACCEPTED                  0.0177\n",
       "WITNESS INFO INCOMPLETE   0.9906\n",
       "SPOILED                   0.9937\n",
       "PENDING                   0.9989\n",
       "PENDING CURE              0.9996\n",
       "RETURNED UNDELIVERABLE    0.9997\n",
       "ACCEPTED - CURED          0.9999\n",
       "CONFLICT                  0.9999\n",
       "DUPLICATE                 1.0000\n",
       "SIGNATURE DIFFERENT       1.0000\n",
       "Name: ballot_rtn_status, dtype: float64"
      ]
     },
     "execution_count": 32,
     "metadata": {},
     "output_type": "execute_result"
    }
   ],
   "source": [
    "1-df[df.race==\"WHITE\"]['ballot_rtn_status'].value_counts(normalize=True)"
   ]
  },
  {
   "cell_type": "code",
   "execution_count": 31,
   "metadata": {},
   "outputs": [
    {
     "data": {
      "text/plain": [
       "1339"
      ]
     },
     "execution_count": 31,
     "metadata": {},
     "output_type": "execute_result"
    }
   ],
   "source": [
    "75683- 74344"
   ]
  },
  {
   "cell_type": "code",
   "execution_count": null,
   "metadata": {},
   "outputs": [],
   "source": []
  }
 ],
 "metadata": {
  "kernelspec": {
   "display_name": "Python 3",
   "language": "python",
   "name": "python3"
  },
  "language_info": {
   "codemirror_mode": {
    "name": "ipython",
    "version": 3
   },
   "file_extension": ".py",
   "mimetype": "text/x-python",
   "name": "python",
   "nbconvert_exporter": "python",
   "pygments_lexer": "ipython3",
   "version": "3.7.3"
  }
 },
 "nbformat": 4,
 "nbformat_minor": 2
}
