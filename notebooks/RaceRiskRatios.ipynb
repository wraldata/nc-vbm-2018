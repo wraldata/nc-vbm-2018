{
 "cells": [
  {
   "cell_type": "code",
   "execution_count": 1,
   "metadata": {},
   "outputs": [
    {
     "name": "stdout",
     "output_type": "stream",
     "text": [
      "Error: PyMSSQL package not available. Some features may not be available.\n"
     ]
    }
   ],
   "source": [
    "import pandas\n",
    "import matplotlib.pyplot as plt\n",
    "pandas.set_option('display.float_format', lambda x: '%.4f' % x)\n",
    "import numpy as np\n",
    "import epydemiology as epy"
   ]
  },
  {
   "cell_type": "markdown",
   "metadata": {},
   "source": [
    "## Revised definition of rejected (Aug. 4)\n",
    "FOR ALL DATA:\n",
    "- Remove one-stop data\n",
    "- ballot_req_type == \"MAIL\"\n",
    "- valid return date only "
   ]
  },
  {
   "cell_type": "code",
   "execution_count": 2,
   "metadata": {},
   "outputs": [
    {
     "name": "stderr",
     "output_type": "stream",
     "text": [
      "/usr/local/lib/python3.7/site-packages/IPython/core/interactiveshell.py:2785: DtypeWarning: Columns (21,29) have mixed types. Specify dtype option on import or set low_memory=False.\n",
      "  interactivity=interactivity, compiler=compiler, result=result)\n"
     ]
    },
    {
     "data": {
      "text/plain": [
       "2111797"
      ]
     },
     "execution_count": 2,
     "metadata": {},
     "output_type": "execute_result"
    }
   ],
   "source": [
    "df = pandas.read_csv('../data/absentee_20181106_w_ethnicity.csv', encoding='latin1')\n",
    "len(df)"
   ]
  },
  {
   "cell_type": "code",
   "execution_count": 3,
   "metadata": {},
   "outputs": [
    {
     "data": {
      "text/plain": [
       "137234"
      ]
     },
     "execution_count": 3,
     "metadata": {},
     "output_type": "execute_result"
    }
   ],
   "source": [
    "# remove one-stop\n",
    "df = df[df['ballot_req_type'] == \"MAIL\"]\n",
    "len(df)"
   ]
  },
  {
   "cell_type": "code",
   "execution_count": 4,
   "metadata": {},
   "outputs": [
    {
     "data": {
      "text/plain": [
       "104091"
      ]
     },
     "execution_count": 4,
     "metadata": {},
     "output_type": "execute_result"
    }
   ],
   "source": [
    "# valid return dt only\n",
    "df = df[df['ballot_rtn_dt'].notnull()]\n",
    "len(df)"
   ]
  },
  {
   "cell_type": "code",
   "execution_count": 5,
   "metadata": {},
   "outputs": [
    {
     "data": {
      "text/plain": [
       "ACCEPTED                  93.7363\n",
       "VOTER SIGNATURE MISSING    2.7140\n",
       "WITNESS INFO INCOMPLETE    1.6121\n",
       "RETURNED AFTER DEADLINE    0.8435\n",
       "SPOILED                    0.7407\n",
       "NOT PROPERLY NOTARIZED     0.1528\n",
       "RETURNED UNDELIVERABLE     0.1287\n",
       "SIGNATURE DIFFERENT        0.0317\n",
       "PENDING                    0.0259\n",
       "DUPLICATE                  0.0096\n",
       "CONFLICT                   0.0048\n",
       "Name: ballot_rtn_status, dtype: float64"
      ]
     },
     "execution_count": 5,
     "metadata": {},
     "output_type": "execute_result"
    }
   ],
   "source": [
    "# Vote breakdown\n",
    "df['ballot_rtn_status'].value_counts(normalize=True, dropna=False) *100"
   ]
  },
  {
   "cell_type": "code",
   "execution_count": 6,
   "metadata": {},
   "outputs": [
    {
     "data": {
      "text/plain": [
       "array(['ACCEPTED', 'SPOILED', 'PENDING', 'WITNESS INFO INCOMPLETE',\n",
       "       'VOTER SIGNATURE MISSING', 'RETURNED UNDELIVERABLE',\n",
       "       'RETURNED AFTER DEADLINE', 'CONFLICT', 'SIGNATURE DIFFERENT',\n",
       "       'NOT PROPERLY NOTARIZED', 'DUPLICATE'], dtype=object)"
      ]
     },
     "execution_count": 6,
     "metadata": {},
     "output_type": "execute_result"
    }
   ],
   "source": [
    "df['ballot_rtn_status'].unique()"
   ]
  },
  {
   "cell_type": "markdown",
   "metadata": {},
   "source": [
    " ## Race risk ratios  "
   ]
  },
  {
   "cell_type": "code",
   "execution_count": 7,
   "metadata": {},
   "outputs": [
    {
     "name": "stderr",
     "output_type": "stream",
     "text": [
      "/usr/local/lib/python3.7/site-packages/ipykernel_launcher.py:10: SettingWithCopyWarning: \n",
      "A value is trying to be set on a copy of a slice from a DataFrame.\n",
      "Try using .loc[row_indexer,col_indexer] = value instead\n",
      "\n",
      "See the caveats in the documentation: http://pandas.pydata.org/pandas-docs/stable/indexing.html#indexing-view-versus-copy\n",
      "  # Remove the CWD from sys.path while we load stuff.\n"
     ]
    },
    {
     "name": "stdout",
     "output_type": "stream",
     "text": [
      "                 UNDESIGNATED  WHITE  total   risk     rr 95CI_katz_llim 95CI_katz_ulim\n",
      "ballot_accepted                                                                        \n",
      "False                     281   3773   4054 0.0693 1.1594         1.0323         1.3022\n",
      "True                     4730  74388  79118 0.0598 1.0000            ---            ---\n",
      "\n",
      "\n",
      "                 ASIAN  WHITE  total   risk     rr 95CI_katz_llim 95CI_katz_ulim\n",
      "ballot_accepted                                                                 \n",
      "False              178   3773   3951 0.0451 1.4785         1.2738         1.7160\n",
      "True              2338  74388  76726 0.0305 1.0000            ---            ---\n",
      "\n",
      "\n",
      "                 BLACK or AFRICAN AMERICAN  WHITE  total   risk     rr 95CI_katz_llim 95CI_katz_ulim\n",
      "ballot_accepted                                                                                     \n",
      "False                                 2022   3773   5795 0.3489 2.3621         2.2726         2.4551\n",
      "True                                 12893  74388  87281 0.1477 1.0000            ---            ---\n",
      "\n",
      "\n",
      "                 OTHER  WHITE  total   risk     rr 95CI_katz_llim 95CI_katz_ulim\n",
      "ballot_accepted                                                                 \n",
      "False              164   3773   3937 0.0417 1.5933         1.3633         1.8622\n",
      "True              1997  74388  76385 0.0261 1.0000            ---            ---\n",
      "\n",
      "\n",
      "                 INDIAN AMERICAN or ALASKA NATIVE  WHITE  total   risk     rr 95CI_katz_llim 95CI_katz_ulim\n",
      "ballot_accepted                                                                                            \n",
      "False                                          45   3773   3818 0.0118 1.6786         1.2402         2.2720\n",
      "True                                          526  74388  74914 0.0070 1.0000            ---            ---\n",
      "\n",
      "\n",
      "                 TWO or MORE RACES  WHITE  total   risk     rr 95CI_katz_llim 95CI_katz_ulim\n",
      "ballot_accepted                                                                             \n",
      "False                           57   3773   3830 0.0149 1.5987         1.2228         2.0901\n",
      "True                           699  74388  75087 0.0093 1.0000            ---            ---\n",
      "\n",
      "\n"
     ]
    }
   ],
   "source": [
    "# Calc risk ratios, compared to white group, for each category\n",
    "RACES = df.race.unique()\n",
    "\n",
    "for R in RACES: \n",
    "    #print(R)\n",
    "    if(R == 'WHITE'):\n",
    "        continue\n",
    "    else:\n",
    "        df_temp = df[df['race'].isin([R, 'WHITE'])]\n",
    "        df_temp['ballot_accepted'] = df_temp['ballot_rtn_status'].apply(lambda x: True if (x == \"ACCEPTED\") else False)\n",
    "        print(epy.phjRelativeRisk(df_temp, 'race', R, 'ballot_accepted', True).to_string())\n",
    "        print()\n",
    "        print()"
   ]
  },
  {
   "cell_type": "markdown",
   "metadata": {},
   "source": [
    "## Let's also do overall minority vs white voters. Drop undesignated"
   ]
  },
  {
   "cell_type": "code",
   "execution_count": 27,
   "metadata": {},
   "outputs": [
    {
     "data": {
      "text/html": [
       "<div>\n",
       "<style scoped>\n",
       "    .dataframe tbody tr th:only-of-type {\n",
       "        vertical-align: middle;\n",
       "    }\n",
       "\n",
       "    .dataframe tbody tr th {\n",
       "        vertical-align: top;\n",
       "    }\n",
       "\n",
       "    .dataframe thead th {\n",
       "        text-align: right;\n",
       "    }\n",
       "</style>\n",
       "<table border=\"1\" class=\"dataframe\">\n",
       "  <thead>\n",
       "    <tr style=\"text-align: right;\">\n",
       "      <th></th>\n",
       "      <th>race</th>\n",
       "      <th>is_minority</th>\n",
       "    </tr>\n",
       "  </thead>\n",
       "  <tbody>\n",
       "    <tr>\n",
       "      <th>3</th>\n",
       "      <td>WHITE</td>\n",
       "      <td>NOT_MINORITY</td>\n",
       "    </tr>\n",
       "    <tr>\n",
       "      <th>49</th>\n",
       "      <td>ASIAN</td>\n",
       "      <td>IS_MINORITY</td>\n",
       "    </tr>\n",
       "    <tr>\n",
       "      <th>78</th>\n",
       "      <td>WHITE</td>\n",
       "      <td>NOT_MINORITY</td>\n",
       "    </tr>\n",
       "    <tr>\n",
       "      <th>79</th>\n",
       "      <td>WHITE</td>\n",
       "      <td>NOT_MINORITY</td>\n",
       "    </tr>\n",
       "    <tr>\n",
       "      <th>83</th>\n",
       "      <td>WHITE</td>\n",
       "      <td>NOT_MINORITY</td>\n",
       "    </tr>\n",
       "  </tbody>\n",
       "</table>\n",
       "</div>"
      ],
      "text/plain": [
       "     race   is_minority\n",
       "3   WHITE  NOT_MINORITY\n",
       "49  ASIAN   IS_MINORITY\n",
       "78  WHITE  NOT_MINORITY\n",
       "79  WHITE  NOT_MINORITY\n",
       "83  WHITE  NOT_MINORITY"
      ]
     },
     "execution_count": 27,
     "metadata": {},
     "output_type": "execute_result"
    }
   ],
   "source": [
    "df['is_minority'] = df['race'].apply(lambda x: \"NOT_MINORITY\"if x=='WHITE' else \"IS_MINORITY\")\n",
    "\n",
    "# let's skip undesignated\n",
    "df_temp = df[df['race']!=\"UNDESIGNATED\"]\n",
    "df_temp[['race','is_minority']].head()"
   ]
  },
  {
   "cell_type": "markdown",
   "metadata": {},
   "source": [
    "## What percent minority, excluding undesignated?"
   ]
  },
  {
   "cell_type": "code",
   "execution_count": 49,
   "metadata": {},
   "outputs": [
    {
     "data": {
      "text/plain": [
       "NOT_MINORITY   0.7889\n",
       "IS_MINORITY    0.2111\n",
       "Name: is_minority, dtype: float64"
      ]
     },
     "execution_count": 49,
     "metadata": {},
     "output_type": "execute_result"
    }
   ],
   "source": [
    "df_temp.is_minority.value_counts(normalize=True)"
   ]
  },
  {
   "cell_type": "code",
   "execution_count": 24,
   "metadata": {},
   "outputs": [
    {
     "data": {
      "text/plain": [
       "array(['NOT_MINORITY', 'IS_MINORITY'], dtype=object)"
      ]
     },
     "execution_count": 24,
     "metadata": {},
     "output_type": "execute_result"
    }
   ],
   "source": [
    "df_temp.is_minority.unique()"
   ]
  },
  {
   "cell_type": "code",
   "execution_count": 25,
   "metadata": {},
   "outputs": [
    {
     "name": "stdout",
     "output_type": "stream",
     "text": [
      "                 IS_MINORITY  NOT_MINORITY  total   risk     rr 95CI_katz_llim 95CI_katz_ulim\n",
      "ballot_accepted                                                                              \n",
      "False                   2466          3773   6239 0.3953 1.9886         1.9235         2.0560\n",
      "True                   18453         74388  92841 0.1988 1.0000            ---            ---\n",
      "\n",
      "\n"
     ]
    },
    {
     "name": "stderr",
     "output_type": "stream",
     "text": [
      "/usr/local/lib/python3.7/site-packages/ipykernel_launcher.py:1: SettingWithCopyWarning: \n",
      "A value is trying to be set on a copy of a slice from a DataFrame.\n",
      "Try using .loc[row_indexer,col_indexer] = value instead\n",
      "\n",
      "See the caveats in the documentation: http://pandas.pydata.org/pandas-docs/stable/indexing.html#indexing-view-versus-copy\n",
      "  \"\"\"Entry point for launching an IPython kernel.\n"
     ]
    }
   ],
   "source": [
    "df_temp['ballot_accepted'] = df_temp['ballot_rtn_status'].apply(lambda x: True if (x == \"ACCEPTED\") else False)\n",
    "print(epy.phjRelativeRisk(df_temp, 'is_minority', \"IS_MINORITY\", 'ballot_accepted', True).to_string())\n",
    "print()\n",
    "print()"
   ]
  },
  {
   "cell_type": "code",
   "execution_count": 31,
   "metadata": {},
   "outputs": [
    {
     "data": {
      "text/plain": [
       "14915"
      ]
     },
     "execution_count": 31,
     "metadata": {},
     "output_type": "execute_result"
    }
   ],
   "source": [
    "len(df[df['race'] == 'BLACK or AFRICAN AMERICAN'])"
   ]
  },
  {
   "cell_type": "code",
   "execution_count": 32,
   "metadata": {},
   "outputs": [
    {
     "data": {
      "text/plain": [
       "104091"
      ]
     },
     "execution_count": 32,
     "metadata": {},
     "output_type": "execute_result"
    }
   ],
   "source": [
    "len(df)"
   ]
  },
  {
   "cell_type": "code",
   "execution_count": 33,
   "metadata": {},
   "outputs": [
    {
     "data": {
      "text/plain": [
       "0.14328808446455504"
      ]
     },
     "execution_count": 33,
     "metadata": {},
     "output_type": "execute_result"
    }
   ],
   "source": [
    "14915 / 104091"
   ]
  },
  {
   "cell_type": "code",
   "execution_count": 35,
   "metadata": {},
   "outputs": [
    {
     "data": {
      "text/plain": [
       "DEM    43631\n",
       "UNA    31818\n",
       "REP    28252\n",
       "LIB      367\n",
       "GRE       17\n",
       "CST        6\n",
       "Name: ballot_request_party, dtype: int64"
      ]
     },
     "execution_count": 35,
     "metadata": {},
     "output_type": "execute_result"
    }
   ],
   "source": [
    "df['ballot_request_party'].value_counts()"
   ]
  },
  {
   "cell_type": "code",
   "execution_count": 38,
   "metadata": {},
   "outputs": [
    {
     "data": {
      "text/plain": [
       "WHITE                              0.6157\n",
       "BLACK or AFRICAN AMERICAN          0.2852\n",
       "UNDESIGNATED                       0.0447\n",
       "OTHER                              0.0204\n",
       "ASIAN                              0.0194\n",
       "TWO or MORE RACES                  0.0081\n",
       "INDIAN AMERICAN or ALASKA NATIVE   0.0065\n",
       "Name: race, dtype: float64"
      ]
     },
     "execution_count": 38,
     "metadata": {},
     "output_type": "execute_result"
    }
   ],
   "source": [
    "df[df['ballot_request_party'] == \"DEM\"]['race'].value_counts(normalize=True)"
   ]
  },
  {
   "cell_type": "code",
   "execution_count": 39,
   "metadata": {},
   "outputs": [
    {
     "data": {
      "text/plain": [
       "WHITE                              0.9317\n",
       "UNDESIGNATED                       0.0245\n",
       "ASIAN                              0.0138\n",
       "OTHER                              0.0133\n",
       "BLACK or AFRICAN AMERICAN          0.0099\n",
       "INDIAN AMERICAN or ALASKA NATIVE   0.0042\n",
       "TWO or MORE RACES                  0.0026\n",
       "Name: race, dtype: float64"
      ]
     },
     "execution_count": 39,
     "metadata": {},
     "output_type": "execute_result"
    }
   ],
   "source": [
    "df[df['ballot_request_party'] == \"REP\"]['race'].value_counts(normalize=True)"
   ]
  },
  {
   "cell_type": "code",
   "execution_count": 45,
   "metadata": {},
   "outputs": [
    {
     "data": {
      "text/plain": [
       "ACCEPTED                   6.2637\n",
       "VOTER SIGNATURE MISSING   97.2860\n",
       "WITNESS INFO INCOMPLETE   98.3879\n",
       "RETURNED AFTER DEADLINE   99.1565\n",
       "SPOILED                   99.2593\n",
       "NOT PROPERLY NOTARIZED    99.8472\n",
       "RETURNED UNDELIVERABLE    99.8713\n",
       "SIGNATURE DIFFERENT       99.9683\n",
       "PENDING                   99.9741\n",
       "DUPLICATE                 99.9904\n",
       "CONFLICT                  99.9952\n",
       "Name: ballot_rtn_status, dtype: float64"
      ]
     },
     "execution_count": 45,
     "metadata": {},
     "output_type": "execute_result"
    }
   ],
   "source": [
    "100- (df['ballot_rtn_status'].value_counts(normalize=True)) * 100"
   ]
  },
  {
   "cell_type": "code",
   "execution_count": 46,
   "metadata": {},
   "outputs": [
    {
     "data": {
      "text/plain": [
       "ACCEPTED                  13.5568\n",
       "VOTER SIGNATURE MISSING   94.5089\n",
       "WITNESS INFO INCOMPLETE   95.0721\n",
       "SPOILED                   98.4244\n",
       "RETURNED AFTER DEADLINE   98.9407\n",
       "RETURNED UNDELIVERABLE    99.7989\n",
       "NOT PROPERLY NOTARIZED    99.8123\n",
       "SIGNATURE DIFFERENT       99.9330\n",
       "DUPLICATE                 99.9799\n",
       "CONFLICT                  99.9799\n",
       "PENDING                   99.9933\n",
       "Name: ballot_rtn_status, dtype: float64"
      ]
     },
     "execution_count": 46,
     "metadata": {},
     "output_type": "execute_result"
    }
   ],
   "source": [
    "100- (df[df['race']=='BLACK or AFRICAN AMERICAN']['ballot_rtn_status'].value_counts(normalize=True)) * 100"
   ]
  },
  {
   "cell_type": "code",
   "execution_count": 47,
   "metadata": {},
   "outputs": [
    {
     "data": {
      "text/plain": [
       "ACCEPTED                   4.8272\n",
       "VOTER SIGNATURE MISSING   97.8020\n",
       "WITNESS INFO INCOMPLETE   99.0289\n",
       "RETURNED AFTER DEADLINE   99.2515\n",
       "SPOILED                   99.4179\n",
       "NOT PROPERLY NOTARIZED    99.8503\n",
       "RETURNED UNDELIVERABLE    99.8836\n",
       "PENDING                   99.9719\n",
       "SIGNATURE DIFFERENT       99.9757\n",
       "DUPLICATE                 99.9923\n",
       "CONFLICT                  99.9987\n",
       "Name: ballot_rtn_status, dtype: float64"
      ]
     },
     "execution_count": 47,
     "metadata": {},
     "output_type": "execute_result"
    }
   ],
   "source": [
    "100- (df[df['race']=='WHITE']['ballot_rtn_status'].value_counts(normalize=True)) * 100"
   ]
  },
  {
   "cell_type": "code",
   "execution_count": 51,
   "metadata": {},
   "outputs": [],
   "source": [
    "df['ballot_rtn_dt'] = pandas.to_datetime(df.ballot_rtn_dt)"
   ]
  }
 ],
 "metadata": {
  "kernelspec": {
   "display_name": "Python 3",
   "language": "python",
   "name": "python3"
  },
  "language_info": {
   "codemirror_mode": {
    "name": "ipython",
    "version": 3
   },
   "file_extension": ".py",
   "mimetype": "text/x-python",
   "name": "python",
   "nbconvert_exporter": "python",
   "pygments_lexer": "ipython3",
   "version": "3.7.3"
  }
 },
 "nbformat": 4,
 "nbformat_minor": 2
}
